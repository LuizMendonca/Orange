{
 "cells": [
  {
   "cell_type": "markdown",
   "metadata": {},
   "source": [
    "# Importa a biblioteca Orange"
   ]
  },
  {
   "cell_type": "code",
   "execution_count": null,
   "metadata": {},
   "outputs": [],
   "source": [
    "import Orange\n",
    "from Orange.data import *"
   ]
  },
  {
   "cell_type": "markdown",
   "metadata": {},
   "source": [
    "# Cria os dados"
   ]
  },
  {
   "cell_type": "code",
   "execution_count": null,
   "metadata": {},
   "outputs": [],
   "source": [
    "color = DiscreteVariable(\"color\", values=[\"orange\", \"green\", \"yellow\"])\n",
    "calories = ContinuousVariable(\"calories\")\n",
    "fiber = ContinuousVariable(\"fiber\")\n",
    "fruit = DiscreteVariable(\"fruit\", values=[\"orange\", \"apple\", \"peach\"])\n",
    "\n",
    "domain = Domain([color, calories, fiber], class_vars=fruit)\n",
    "\n",
    "data=Table(domain, [\n",
    "[\"green\", 4, 1.2, \"apple\"], \n",
    "[\"orange\", 5, 1.1, \"orange\"],\n",
    "[\"yellow\", 4, 1.0, \"peach\"],\n",
    "[\"orange\", 4, 1.1, \"orange\"],\n",
    "[\"yellow\", 4, 1.1,\"peach\"],\n",
    "[\"green\", 5, 1.3, \"apple\"],\n",
    "[\"green\", 4, 1.3, \"apple\"],\n",
    "[\"orange\", 5, 1.0, \"orange\"],\n",
    "[\"yellow\", 4.5, 1.3, \"peach\"],\n",
    "[\"green\", 5, 1.0, \"orange\"]])\n",
    "\n",
    "print(data)"
   ]
  },
  {
   "cell_type": "markdown",
   "metadata": {},
   "source": [
    "# Classificador"
   ]
  },
  {
   "cell_type": "code",
   "execution_count": null,
   "metadata": {},
   "outputs": [],
   "source": [
    "tree_learner = Orange.classification.TreeLearner()\n",
    "tree = tree_learner(data)"
   ]
  },
  {
   "cell_type": "markdown",
   "metadata": {},
   "source": [
    "Agora podemos prever qual tipo é uma fruta verde com 3,5 calorias e 2g de fibra com a ajuda do nosso modelo."
   ]
  },
  {
   "cell_type": "code",
   "execution_count": null,
   "metadata": {},
   "outputs": [],
   "source": [
    "index = tree([\"green\", 3.5, 2])\n",
    "domain.class_var.values[index[0]]"
   ]
  }
 ],
 "metadata": {
  "kernelspec": {
   "display_name": "Python 3",
   "language": "python",
   "name": "python3"
  },
  "language_info": {
   "codemirror_mode": {
    "name": "ipython",
    "version": 3
   },
   "file_extension": ".py",
   "mimetype": "text/x-python",
   "name": "python",
   "nbconvert_exporter": "python",
   "pygments_lexer": "ipython3",
   "version": "3.7.0"
  }
 },
 "nbformat": 4,
 "nbformat_minor": 2
}
